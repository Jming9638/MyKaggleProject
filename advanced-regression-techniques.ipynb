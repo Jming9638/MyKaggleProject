{
 "cells": [
  {
   "cell_type": "code",
   "execution_count": 1,
   "metadata": {
    "_cell_guid": "b1076dfc-b9ad-4769-8c92-a6c4dae69d19",
    "_uuid": "8f2839f25d086af736a60e9eeb907d3b93b6e0e5",
    "execution": {
     "iopub.execute_input": "2021-01-01T12:14:49.049802Z",
     "iopub.status.busy": "2021-01-01T12:14:49.049125Z",
     "iopub.status.idle": "2021-01-01T12:14:49.056746Z",
     "shell.execute_reply": "2021-01-01T12:14:49.057598Z"
    },
    "papermill": {
     "duration": 0.041637,
     "end_time": "2021-01-01T12:14:49.057874",
     "exception": false,
     "start_time": "2021-01-01T12:14:49.016237",
     "status": "completed"
    },
    "tags": []
   },
   "outputs": [
    {
     "name": "stdout",
     "output_type": "stream",
     "text": [
      "/kaggle/input/house-prices-advanced-regression-techniques/sample_submission.csv\n",
      "/kaggle/input/house-prices-advanced-regression-techniques/data_description.txt\n",
      "/kaggle/input/house-prices-advanced-regression-techniques/train.csv\n",
      "/kaggle/input/house-prices-advanced-regression-techniques/test.csv\n"
     ]
    }
   ],
   "source": [
    "# This Python 3 environment comes with many helpful analytics libraries installed\n",
    "# It is defined by the kaggle/python Docker image: https://github.com/kaggle/docker-python\n",
    "# For example, here's several helpful packages to load\n",
    "\n",
    "import numpy as np # linear algebra\n",
    "import pandas as pd # data processing, CSV file I/O (e.g. pd.read_csv)\n",
    "\n",
    "# Input data files are available in the read-only \"../input/\" directory\n",
    "# For example, running this (by clicking run or pressing Shift+Enter) will list all files under the input directory\n",
    "\n",
    "import os\n",
    "for dirname, _, filenames in os.walk('/kaggle/input'):\n",
    "    for filename in filenames:\n",
    "        print(os.path.join(dirname, filename))\n",
    "\n",
    "# You can write up to 20GB to the current directory (/kaggle/working/) that gets preserved as output when you create a version using \"Save & Run All\" \n",
    "# You can also write temporary files to /kaggle/temp/, but they won't be saved outside of the current session"
   ]
  },
  {
   "cell_type": "code",
   "execution_count": 2,
   "metadata": {
    "_cell_guid": "79c7e3d0-c299-4dcb-8224-4455121ee9b0",
    "_uuid": "d629ff2d2480ee46fbb7e2d37f6b5fab8052498a",
    "execution": {
     "iopub.execute_input": "2021-01-01T12:14:49.116558Z",
     "iopub.status.busy": "2021-01-01T12:14:49.115851Z",
     "iopub.status.idle": "2021-01-01T12:14:51.466404Z",
     "shell.execute_reply": "2021-01-01T12:14:51.465677Z"
    },
    "papermill": {
     "duration": 2.382449,
     "end_time": "2021-01-01T12:14:51.466522",
     "exception": false,
     "start_time": "2021-01-01T12:14:49.084073",
     "status": "completed"
    },
    "tags": []
   },
   "outputs": [],
   "source": [
    "import pandas as pd\n",
    "import numpy as np\n",
    "import seaborn as sns\n",
    "import matplotlib.pyplot as plt\n",
    "\n",
    "from sklearn.model_selection import train_test_split, GridSearchCV\n",
    "from sklearn.linear_model import LinearRegression, Ridge\n",
    "from sklearn.neighbors import KNeighborsRegressor\n",
    "from sklearn.svm import SVR\n",
    "from sklearn.tree import DecisionTreeRegressor\n",
    "from sklearn.ensemble import RandomForestRegressor\n",
    "from xgboost import XGBRegressor\n",
    "from sklearn.preprocessing import PolynomialFeatures, LabelEncoder\n",
    "from sklearn.impute import SimpleImputer\n",
    "from sklearn.metrics import mean_squared_error"
   ]
  },
  {
   "cell_type": "code",
   "execution_count": 3,
   "metadata": {
    "execution": {
     "iopub.execute_input": "2021-01-01T12:14:51.523271Z",
     "iopub.status.busy": "2021-01-01T12:14:51.522616Z",
     "iopub.status.idle": "2021-01-01T12:14:51.617065Z",
     "shell.execute_reply": "2021-01-01T12:14:51.616420Z"
    },
    "papermill": {
     "duration": 0.126231,
     "end_time": "2021-01-01T12:14:51.617191",
     "exception": false,
     "start_time": "2021-01-01T12:14:51.490960",
     "status": "completed"
    },
    "tags": []
   },
   "outputs": [],
   "source": [
    "train = pd.read_csv('../input/house-prices-advanced-regression-techniques/train.csv')\n",
    "test = pd.read_csv('../input/house-prices-advanced-regression-techniques/test.csv')"
   ]
  },
  {
   "cell_type": "code",
   "execution_count": 4,
   "metadata": {
    "execution": {
     "iopub.execute_input": "2021-01-01T12:14:51.687911Z",
     "iopub.status.busy": "2021-01-01T12:14:51.675500Z",
     "iopub.status.idle": "2021-01-01T12:14:51.713918Z",
     "shell.execute_reply": "2021-01-01T12:14:51.714469Z"
    },
    "papermill": {
     "duration": 0.07281,
     "end_time": "2021-01-01T12:14:51.714617",
     "exception": false,
     "start_time": "2021-01-01T12:14:51.641807",
     "status": "completed"
    },
    "tags": []
   },
   "outputs": [
    {
     "data": {
      "text/html": [
       "<div>\n",
       "<style scoped>\n",
       "    .dataframe tbody tr th:only-of-type {\n",
       "        vertical-align: middle;\n",
       "    }\n",
       "\n",
       "    .dataframe tbody tr th {\n",
       "        vertical-align: top;\n",
       "    }\n",
       "\n",
       "    .dataframe thead th {\n",
       "        text-align: right;\n",
       "    }\n",
       "</style>\n",
       "<table border=\"1\" class=\"dataframe\">\n",
       "  <thead>\n",
       "    <tr style=\"text-align: right;\">\n",
       "      <th></th>\n",
       "      <th>Id</th>\n",
       "      <th>MSSubClass</th>\n",
       "      <th>MSZoning</th>\n",
       "      <th>LotFrontage</th>\n",
       "      <th>LotArea</th>\n",
       "      <th>Street</th>\n",
       "      <th>Alley</th>\n",
       "      <th>LotShape</th>\n",
       "      <th>LandContour</th>\n",
       "      <th>Utilities</th>\n",
       "      <th>...</th>\n",
       "      <th>PoolArea</th>\n",
       "      <th>PoolQC</th>\n",
       "      <th>Fence</th>\n",
       "      <th>MiscFeature</th>\n",
       "      <th>MiscVal</th>\n",
       "      <th>MoSold</th>\n",
       "      <th>YrSold</th>\n",
       "      <th>SaleType</th>\n",
       "      <th>SaleCondition</th>\n",
       "      <th>SalePrice</th>\n",
       "    </tr>\n",
       "  </thead>\n",
       "  <tbody>\n",
       "    <tr>\n",
       "      <th>0</th>\n",
       "      <td>1</td>\n",
       "      <td>60</td>\n",
       "      <td>RL</td>\n",
       "      <td>65.0</td>\n",
       "      <td>8450</td>\n",
       "      <td>Pave</td>\n",
       "      <td>NaN</td>\n",
       "      <td>Reg</td>\n",
       "      <td>Lvl</td>\n",
       "      <td>AllPub</td>\n",
       "      <td>...</td>\n",
       "      <td>0</td>\n",
       "      <td>NaN</td>\n",
       "      <td>NaN</td>\n",
       "      <td>NaN</td>\n",
       "      <td>0</td>\n",
       "      <td>2</td>\n",
       "      <td>2008</td>\n",
       "      <td>WD</td>\n",
       "      <td>Normal</td>\n",
       "      <td>208500</td>\n",
       "    </tr>\n",
       "    <tr>\n",
       "      <th>1</th>\n",
       "      <td>2</td>\n",
       "      <td>20</td>\n",
       "      <td>RL</td>\n",
       "      <td>80.0</td>\n",
       "      <td>9600</td>\n",
       "      <td>Pave</td>\n",
       "      <td>NaN</td>\n",
       "      <td>Reg</td>\n",
       "      <td>Lvl</td>\n",
       "      <td>AllPub</td>\n",
       "      <td>...</td>\n",
       "      <td>0</td>\n",
       "      <td>NaN</td>\n",
       "      <td>NaN</td>\n",
       "      <td>NaN</td>\n",
       "      <td>0</td>\n",
       "      <td>5</td>\n",
       "      <td>2007</td>\n",
       "      <td>WD</td>\n",
       "      <td>Normal</td>\n",
       "      <td>181500</td>\n",
       "    </tr>\n",
       "    <tr>\n",
       "      <th>2</th>\n",
       "      <td>3</td>\n",
       "      <td>60</td>\n",
       "      <td>RL</td>\n",
       "      <td>68.0</td>\n",
       "      <td>11250</td>\n",
       "      <td>Pave</td>\n",
       "      <td>NaN</td>\n",
       "      <td>IR1</td>\n",
       "      <td>Lvl</td>\n",
       "      <td>AllPub</td>\n",
       "      <td>...</td>\n",
       "      <td>0</td>\n",
       "      <td>NaN</td>\n",
       "      <td>NaN</td>\n",
       "      <td>NaN</td>\n",
       "      <td>0</td>\n",
       "      <td>9</td>\n",
       "      <td>2008</td>\n",
       "      <td>WD</td>\n",
       "      <td>Normal</td>\n",
       "      <td>223500</td>\n",
       "    </tr>\n",
       "    <tr>\n",
       "      <th>3</th>\n",
       "      <td>4</td>\n",
       "      <td>70</td>\n",
       "      <td>RL</td>\n",
       "      <td>60.0</td>\n",
       "      <td>9550</td>\n",
       "      <td>Pave</td>\n",
       "      <td>NaN</td>\n",
       "      <td>IR1</td>\n",
       "      <td>Lvl</td>\n",
       "      <td>AllPub</td>\n",
       "      <td>...</td>\n",
       "      <td>0</td>\n",
       "      <td>NaN</td>\n",
       "      <td>NaN</td>\n",
       "      <td>NaN</td>\n",
       "      <td>0</td>\n",
       "      <td>2</td>\n",
       "      <td>2006</td>\n",
       "      <td>WD</td>\n",
       "      <td>Abnorml</td>\n",
       "      <td>140000</td>\n",
       "    </tr>\n",
       "    <tr>\n",
       "      <th>4</th>\n",
       "      <td>5</td>\n",
       "      <td>60</td>\n",
       "      <td>RL</td>\n",
       "      <td>84.0</td>\n",
       "      <td>14260</td>\n",
       "      <td>Pave</td>\n",
       "      <td>NaN</td>\n",
       "      <td>IR1</td>\n",
       "      <td>Lvl</td>\n",
       "      <td>AllPub</td>\n",
       "      <td>...</td>\n",
       "      <td>0</td>\n",
       "      <td>NaN</td>\n",
       "      <td>NaN</td>\n",
       "      <td>NaN</td>\n",
       "      <td>0</td>\n",
       "      <td>12</td>\n",
       "      <td>2008</td>\n",
       "      <td>WD</td>\n",
       "      <td>Normal</td>\n",
       "      <td>250000</td>\n",
       "    </tr>\n",
       "  </tbody>\n",
       "</table>\n",
       "<p>5 rows × 81 columns</p>\n",
       "</div>"
      ],
      "text/plain": [
       "   Id  MSSubClass MSZoning  LotFrontage  LotArea Street Alley LotShape  \\\n",
       "0   1          60       RL         65.0     8450   Pave   NaN      Reg   \n",
       "1   2          20       RL         80.0     9600   Pave   NaN      Reg   \n",
       "2   3          60       RL         68.0    11250   Pave   NaN      IR1   \n",
       "3   4          70       RL         60.0     9550   Pave   NaN      IR1   \n",
       "4   5          60       RL         84.0    14260   Pave   NaN      IR1   \n",
       "\n",
       "  LandContour Utilities  ... PoolArea PoolQC Fence MiscFeature MiscVal MoSold  \\\n",
       "0         Lvl    AllPub  ...        0    NaN   NaN         NaN       0      2   \n",
       "1         Lvl    AllPub  ...        0    NaN   NaN         NaN       0      5   \n",
       "2         Lvl    AllPub  ...        0    NaN   NaN         NaN       0      9   \n",
       "3         Lvl    AllPub  ...        0    NaN   NaN         NaN       0      2   \n",
       "4         Lvl    AllPub  ...        0    NaN   NaN         NaN       0     12   \n",
       "\n",
       "  YrSold  SaleType  SaleCondition  SalePrice  \n",
       "0   2008        WD         Normal     208500  \n",
       "1   2007        WD         Normal     181500  \n",
       "2   2008        WD         Normal     223500  \n",
       "3   2006        WD        Abnorml     140000  \n",
       "4   2008        WD         Normal     250000  \n",
       "\n",
       "[5 rows x 81 columns]"
      ]
     },
     "execution_count": 4,
     "metadata": {},
     "output_type": "execute_result"
    }
   ],
   "source": [
    "train.head()"
   ]
  },
  {
   "cell_type": "code",
   "execution_count": 5,
   "metadata": {
    "execution": {
     "iopub.execute_input": "2021-01-01T12:14:51.777284Z",
     "iopub.status.busy": "2021-01-01T12:14:51.776198Z",
     "iopub.status.idle": "2021-01-01T12:14:51.785178Z",
     "shell.execute_reply": "2021-01-01T12:14:51.784495Z"
    },
    "papermill": {
     "duration": 0.045448,
     "end_time": "2021-01-01T12:14:51.785291",
     "exception": false,
     "start_time": "2021-01-01T12:14:51.739843",
     "status": "completed"
    },
    "tags": []
   },
   "outputs": [
    {
     "data": {
      "text/plain": [
       "PoolQC          1453\n",
       "MiscFeature     1406\n",
       "Alley           1369\n",
       "Fence           1179\n",
       "FireplaceQu      690\n",
       "LotFrontage      259\n",
       "GarageCond        81\n",
       "GarageType        81\n",
       "GarageYrBlt       81\n",
       "GarageFinish      81\n",
       "GarageQual        81\n",
       "BsmtExposure      38\n",
       "BsmtFinType2      38\n",
       "BsmtFinType1      37\n",
       "BsmtCond          37\n",
       "BsmtQual          37\n",
       "MasVnrArea         8\n",
       "MasVnrType         8\n",
       "Electrical         1\n",
       "Utilities          0\n",
       "dtype: int64"
      ]
     },
     "execution_count": 5,
     "metadata": {},
     "output_type": "execute_result"
    }
   ],
   "source": [
    "# Check missing values\n",
    "train.isnull().sum().sort_values(ascending=False).head(20)"
   ]
  },
  {
   "cell_type": "code",
   "execution_count": 6,
   "metadata": {
    "execution": {
     "iopub.execute_input": "2021-01-01T12:14:51.846929Z",
     "iopub.status.busy": "2021-01-01T12:14:51.845967Z",
     "iopub.status.idle": "2021-01-01T12:14:51.850407Z",
     "shell.execute_reply": "2021-01-01T12:14:51.849802Z"
    },
    "papermill": {
     "duration": 0.039299,
     "end_time": "2021-01-01T12:14:51.850522",
     "exception": false,
     "start_time": "2021-01-01T12:14:51.811223",
     "status": "completed"
    },
    "tags": []
   },
   "outputs": [],
   "source": [
    "train_df = train.drop([\"PoolQC\", \"MiscFeature\", \"Alley\", \"Fence\", \"Id\"], axis=1)\n",
    "test_df = test.drop([\"PoolQC\", \"MiscFeature\", \"Alley\", \"Fence\", \"Id\"], axis=1)"
   ]
  },
  {
   "cell_type": "code",
   "execution_count": 7,
   "metadata": {
    "execution": {
     "iopub.execute_input": "2021-01-01T12:14:51.915313Z",
     "iopub.status.busy": "2021-01-01T12:14:51.914585Z",
     "iopub.status.idle": "2021-01-01T12:14:51.935565Z",
     "shell.execute_reply": "2021-01-01T12:14:51.934611Z"
    },
    "papermill": {
     "duration": 0.059032,
     "end_time": "2021-01-01T12:14:51.935720",
     "exception": false,
     "start_time": "2021-01-01T12:14:51.876688",
     "status": "completed"
    },
    "tags": []
   },
   "outputs": [
    {
     "name": "stdout",
     "output_type": "stream",
     "text": [
      "<class 'pandas.core.frame.DataFrame'>\n",
      "RangeIndex: 1460 entries, 0 to 1459\n",
      "Data columns (total 76 columns):\n",
      " #   Column         Non-Null Count  Dtype  \n",
      "---  ------         --------------  -----  \n",
      " 0   MSSubClass     1460 non-null   int64  \n",
      " 1   MSZoning       1460 non-null   object \n",
      " 2   LotFrontage    1201 non-null   float64\n",
      " 3   LotArea        1460 non-null   int64  \n",
      " 4   Street         1460 non-null   object \n",
      " 5   LotShape       1460 non-null   object \n",
      " 6   LandContour    1460 non-null   object \n",
      " 7   Utilities      1460 non-null   object \n",
      " 8   LotConfig      1460 non-null   object \n",
      " 9   LandSlope      1460 non-null   object \n",
      " 10  Neighborhood   1460 non-null   object \n",
      " 11  Condition1     1460 non-null   object \n",
      " 12  Condition2     1460 non-null   object \n",
      " 13  BldgType       1460 non-null   object \n",
      " 14  HouseStyle     1460 non-null   object \n",
      " 15  OverallQual    1460 non-null   int64  \n",
      " 16  OverallCond    1460 non-null   int64  \n",
      " 17  YearBuilt      1460 non-null   int64  \n",
      " 18  YearRemodAdd   1460 non-null   int64  \n",
      " 19  RoofStyle      1460 non-null   object \n",
      " 20  RoofMatl       1460 non-null   object \n",
      " 21  Exterior1st    1460 non-null   object \n",
      " 22  Exterior2nd    1460 non-null   object \n",
      " 23  MasVnrType     1452 non-null   object \n",
      " 24  MasVnrArea     1452 non-null   float64\n",
      " 25  ExterQual      1460 non-null   object \n",
      " 26  ExterCond      1460 non-null   object \n",
      " 27  Foundation     1460 non-null   object \n",
      " 28  BsmtQual       1423 non-null   object \n",
      " 29  BsmtCond       1423 non-null   object \n",
      " 30  BsmtExposure   1422 non-null   object \n",
      " 31  BsmtFinType1   1423 non-null   object \n",
      " 32  BsmtFinSF1     1460 non-null   int64  \n",
      " 33  BsmtFinType2   1422 non-null   object \n",
      " 34  BsmtFinSF2     1460 non-null   int64  \n",
      " 35  BsmtUnfSF      1460 non-null   int64  \n",
      " 36  TotalBsmtSF    1460 non-null   int64  \n",
      " 37  Heating        1460 non-null   object \n",
      " 38  HeatingQC      1460 non-null   object \n",
      " 39  CentralAir     1460 non-null   object \n",
      " 40  Electrical     1459 non-null   object \n",
      " 41  1stFlrSF       1460 non-null   int64  \n",
      " 42  2ndFlrSF       1460 non-null   int64  \n",
      " 43  LowQualFinSF   1460 non-null   int64  \n",
      " 44  GrLivArea      1460 non-null   int64  \n",
      " 45  BsmtFullBath   1460 non-null   int64  \n",
      " 46  BsmtHalfBath   1460 non-null   int64  \n",
      " 47  FullBath       1460 non-null   int64  \n",
      " 48  HalfBath       1460 non-null   int64  \n",
      " 49  BedroomAbvGr   1460 non-null   int64  \n",
      " 50  KitchenAbvGr   1460 non-null   int64  \n",
      " 51  KitchenQual    1460 non-null   object \n",
      " 52  TotRmsAbvGrd   1460 non-null   int64  \n",
      " 53  Functional     1460 non-null   object \n",
      " 54  Fireplaces     1460 non-null   int64  \n",
      " 55  FireplaceQu    770 non-null    object \n",
      " 56  GarageType     1379 non-null   object \n",
      " 57  GarageYrBlt    1379 non-null   float64\n",
      " 58  GarageFinish   1379 non-null   object \n",
      " 59  GarageCars     1460 non-null   int64  \n",
      " 60  GarageArea     1460 non-null   int64  \n",
      " 61  GarageQual     1379 non-null   object \n",
      " 62  GarageCond     1379 non-null   object \n",
      " 63  PavedDrive     1460 non-null   object \n",
      " 64  WoodDeckSF     1460 non-null   int64  \n",
      " 65  OpenPorchSF    1460 non-null   int64  \n",
      " 66  EnclosedPorch  1460 non-null   int64  \n",
      " 67  3SsnPorch      1460 non-null   int64  \n",
      " 68  ScreenPorch    1460 non-null   int64  \n",
      " 69  PoolArea       1460 non-null   int64  \n",
      " 70  MiscVal        1460 non-null   int64  \n",
      " 71  MoSold         1460 non-null   int64  \n",
      " 72  YrSold         1460 non-null   int64  \n",
      " 73  SaleType       1460 non-null   object \n",
      " 74  SaleCondition  1460 non-null   object \n",
      " 75  SalePrice      1460 non-null   int64  \n",
      "dtypes: float64(3), int64(34), object(39)\n",
      "memory usage: 867.0+ KB\n"
     ]
    }
   ],
   "source": [
    "train_df.info()"
   ]
  },
  {
   "cell_type": "code",
   "execution_count": 8,
   "metadata": {
    "execution": {
     "iopub.execute_input": "2021-01-01T12:14:51.996546Z",
     "iopub.status.busy": "2021-01-01T12:14:51.995477Z",
     "iopub.status.idle": "2021-01-01T12:14:52.001966Z",
     "shell.execute_reply": "2021-01-01T12:14:52.001260Z"
    },
    "papermill": {
     "duration": 0.039612,
     "end_time": "2021-01-01T12:14:52.002108",
     "exception": false,
     "start_time": "2021-01-01T12:14:51.962496",
     "status": "completed"
    },
    "tags": []
   },
   "outputs": [],
   "source": [
    "X = train_df.drop('SalePrice', axis=1)\n",
    "y = train_df[['SalePrice']]"
   ]
  },
  {
   "cell_type": "code",
   "execution_count": 9,
   "metadata": {
    "execution": {
     "iopub.execute_input": "2021-01-01T12:14:52.079499Z",
     "iopub.status.busy": "2021-01-01T12:14:52.078819Z",
     "iopub.status.idle": "2021-01-01T12:14:52.082899Z",
     "shell.execute_reply": "2021-01-01T12:14:52.082302Z"
    },
    "papermill": {
     "duration": 0.05453,
     "end_time": "2021-01-01T12:14:52.083010",
     "exception": false,
     "start_time": "2021-01-01T12:14:52.028480",
     "status": "completed"
    },
    "tags": []
   },
   "outputs": [],
   "source": [
    "num_col = [n for n in X.columns if X.dtypes[n] != 'object']\n",
    "cat_col = [c for c in X.columns if X.dtypes[c] == 'object']"
   ]
  },
  {
   "cell_type": "code",
   "execution_count": 10,
   "metadata": {
    "execution": {
     "iopub.execute_input": "2021-01-01T12:14:52.141603Z",
     "iopub.status.busy": "2021-01-01T12:14:52.140924Z",
     "iopub.status.idle": "2021-01-01T12:14:52.145780Z",
     "shell.execute_reply": "2021-01-01T12:14:52.145242Z"
    },
    "papermill": {
     "duration": 0.036149,
     "end_time": "2021-01-01T12:14:52.145886",
     "exception": false,
     "start_time": "2021-01-01T12:14:52.109737",
     "status": "completed"
    },
    "tags": []
   },
   "outputs": [
    {
     "name": "stdout",
     "output_type": "stream",
     "text": [
      "['MSSubClass', 'LotFrontage', 'LotArea', 'OverallQual', 'OverallCond', 'YearBuilt', 'YearRemodAdd', 'MasVnrArea', 'BsmtFinSF1', 'BsmtFinSF2', 'BsmtUnfSF', 'TotalBsmtSF', '1stFlrSF', '2ndFlrSF', 'LowQualFinSF', 'GrLivArea', 'BsmtFullBath', 'BsmtHalfBath', 'FullBath', 'HalfBath', 'BedroomAbvGr', 'KitchenAbvGr', 'TotRmsAbvGrd', 'Fireplaces', 'GarageYrBlt', 'GarageCars', 'GarageArea', 'WoodDeckSF', 'OpenPorchSF', 'EnclosedPorch', '3SsnPorch', 'ScreenPorch', 'PoolArea', 'MiscVal', 'MoSold', 'YrSold'] \n",
      " ['MSZoning', 'Street', 'LotShape', 'LandContour', 'Utilities', 'LotConfig', 'LandSlope', 'Neighborhood', 'Condition1', 'Condition2', 'BldgType', 'HouseStyle', 'RoofStyle', 'RoofMatl', 'Exterior1st', 'Exterior2nd', 'MasVnrType', 'ExterQual', 'ExterCond', 'Foundation', 'BsmtQual', 'BsmtCond', 'BsmtExposure', 'BsmtFinType1', 'BsmtFinType2', 'Heating', 'HeatingQC', 'CentralAir', 'Electrical', 'KitchenQual', 'Functional', 'FireplaceQu', 'GarageType', 'GarageFinish', 'GarageQual', 'GarageCond', 'PavedDrive', 'SaleType', 'SaleCondition']\n"
     ]
    }
   ],
   "source": [
    "print(num_col, '\\n', cat_col)"
   ]
  },
  {
   "cell_type": "code",
   "execution_count": 11,
   "metadata": {
    "execution": {
     "iopub.execute_input": "2021-01-01T12:14:52.208212Z",
     "iopub.status.busy": "2021-01-01T12:14:52.205661Z",
     "iopub.status.idle": "2021-01-01T12:14:52.294363Z",
     "shell.execute_reply": "2021-01-01T12:14:52.293650Z"
    },
    "papermill": {
     "duration": 0.121493,
     "end_time": "2021-01-01T12:14:52.294478",
     "exception": false,
     "start_time": "2021-01-01T12:14:52.172985",
     "status": "completed"
    },
    "tags": []
   },
   "outputs": [],
   "source": [
    "imputer_col = SimpleImputer(strategy='most_frequent')\n",
    "X[cat_col] = imputer_col.fit_transform(X[cat_col])"
   ]
  },
  {
   "cell_type": "code",
   "execution_count": 12,
   "metadata": {
    "execution": {
     "iopub.execute_input": "2021-01-01T12:14:52.355654Z",
     "iopub.status.busy": "2021-01-01T12:14:52.354926Z",
     "iopub.status.idle": "2021-01-01T12:14:52.399815Z",
     "shell.execute_reply": "2021-01-01T12:14:52.399206Z"
    },
    "papermill": {
     "duration": 0.078219,
     "end_time": "2021-01-01T12:14:52.399932",
     "exception": false,
     "start_time": "2021-01-01T12:14:52.321713",
     "status": "completed"
    },
    "tags": []
   },
   "outputs": [],
   "source": [
    "encoder = LabelEncoder()\n",
    "X[cat_col] = X[cat_col].apply(encoder.fit_transform)"
   ]
  },
  {
   "cell_type": "code",
   "execution_count": 13,
   "metadata": {
    "execution": {
     "iopub.execute_input": "2021-01-01T12:14:52.462844Z",
     "iopub.status.busy": "2021-01-01T12:14:52.462144Z",
     "iopub.status.idle": "2021-01-01T12:14:52.504734Z",
     "shell.execute_reply": "2021-01-01T12:14:52.504179Z"
    },
    "papermill": {
     "duration": 0.076789,
     "end_time": "2021-01-01T12:14:52.504855",
     "exception": false,
     "start_time": "2021-01-01T12:14:52.428066",
     "status": "completed"
    },
    "tags": []
   },
   "outputs": [],
   "source": [
    "imputer_num = SimpleImputer(strategy='median')\n",
    "X[num_col] = imputer_num.fit_transform(X[num_col])"
   ]
  },
  {
   "cell_type": "code",
   "execution_count": 14,
   "metadata": {
    "execution": {
     "iopub.execute_input": "2021-01-01T12:14:52.567191Z",
     "iopub.status.busy": "2021-01-01T12:14:52.566436Z",
     "iopub.status.idle": "2021-01-01T12:14:52.586903Z",
     "shell.execute_reply": "2021-01-01T12:14:52.586116Z"
    },
    "papermill": {
     "duration": 0.054731,
     "end_time": "2021-01-01T12:14:52.587314",
     "exception": false,
     "start_time": "2021-01-01T12:14:52.532583",
     "status": "completed"
    },
    "tags": []
   },
   "outputs": [
    {
     "name": "stdout",
     "output_type": "stream",
     "text": [
      "<class 'pandas.core.frame.DataFrame'>\n",
      "RangeIndex: 1460 entries, 0 to 1459\n",
      "Data columns (total 75 columns):\n",
      " #   Column         Non-Null Count  Dtype  \n",
      "---  ------         --------------  -----  \n",
      " 0   MSSubClass     1460 non-null   float64\n",
      " 1   MSZoning       1460 non-null   int64  \n",
      " 2   LotFrontage    1460 non-null   float64\n",
      " 3   LotArea        1460 non-null   float64\n",
      " 4   Street         1460 non-null   int64  \n",
      " 5   LotShape       1460 non-null   int64  \n",
      " 6   LandContour    1460 non-null   int64  \n",
      " 7   Utilities      1460 non-null   int64  \n",
      " 8   LotConfig      1460 non-null   int64  \n",
      " 9   LandSlope      1460 non-null   int64  \n",
      " 10  Neighborhood   1460 non-null   int64  \n",
      " 11  Condition1     1460 non-null   int64  \n",
      " 12  Condition2     1460 non-null   int64  \n",
      " 13  BldgType       1460 non-null   int64  \n",
      " 14  HouseStyle     1460 non-null   int64  \n",
      " 15  OverallQual    1460 non-null   float64\n",
      " 16  OverallCond    1460 non-null   float64\n",
      " 17  YearBuilt      1460 non-null   float64\n",
      " 18  YearRemodAdd   1460 non-null   float64\n",
      " 19  RoofStyle      1460 non-null   int64  \n",
      " 20  RoofMatl       1460 non-null   int64  \n",
      " 21  Exterior1st    1460 non-null   int64  \n",
      " 22  Exterior2nd    1460 non-null   int64  \n",
      " 23  MasVnrType     1460 non-null   int64  \n",
      " 24  MasVnrArea     1460 non-null   float64\n",
      " 25  ExterQual      1460 non-null   int64  \n",
      " 26  ExterCond      1460 non-null   int64  \n",
      " 27  Foundation     1460 non-null   int64  \n",
      " 28  BsmtQual       1460 non-null   int64  \n",
      " 29  BsmtCond       1460 non-null   int64  \n",
      " 30  BsmtExposure   1460 non-null   int64  \n",
      " 31  BsmtFinType1   1460 non-null   int64  \n",
      " 32  BsmtFinSF1     1460 non-null   float64\n",
      " 33  BsmtFinType2   1460 non-null   int64  \n",
      " 34  BsmtFinSF2     1460 non-null   float64\n",
      " 35  BsmtUnfSF      1460 non-null   float64\n",
      " 36  TotalBsmtSF    1460 non-null   float64\n",
      " 37  Heating        1460 non-null   int64  \n",
      " 38  HeatingQC      1460 non-null   int64  \n",
      " 39  CentralAir     1460 non-null   int64  \n",
      " 40  Electrical     1460 non-null   int64  \n",
      " 41  1stFlrSF       1460 non-null   float64\n",
      " 42  2ndFlrSF       1460 non-null   float64\n",
      " 43  LowQualFinSF   1460 non-null   float64\n",
      " 44  GrLivArea      1460 non-null   float64\n",
      " 45  BsmtFullBath   1460 non-null   float64\n",
      " 46  BsmtHalfBath   1460 non-null   float64\n",
      " 47  FullBath       1460 non-null   float64\n",
      " 48  HalfBath       1460 non-null   float64\n",
      " 49  BedroomAbvGr   1460 non-null   float64\n",
      " 50  KitchenAbvGr   1460 non-null   float64\n",
      " 51  KitchenQual    1460 non-null   int64  \n",
      " 52  TotRmsAbvGrd   1460 non-null   float64\n",
      " 53  Functional     1460 non-null   int64  \n",
      " 54  Fireplaces     1460 non-null   float64\n",
      " 55  FireplaceQu    1460 non-null   int64  \n",
      " 56  GarageType     1460 non-null   int64  \n",
      " 57  GarageYrBlt    1460 non-null   float64\n",
      " 58  GarageFinish   1460 non-null   int64  \n",
      " 59  GarageCars     1460 non-null   float64\n",
      " 60  GarageArea     1460 non-null   float64\n",
      " 61  GarageQual     1460 non-null   int64  \n",
      " 62  GarageCond     1460 non-null   int64  \n",
      " 63  PavedDrive     1460 non-null   int64  \n",
      " 64  WoodDeckSF     1460 non-null   float64\n",
      " 65  OpenPorchSF    1460 non-null   float64\n",
      " 66  EnclosedPorch  1460 non-null   float64\n",
      " 67  3SsnPorch      1460 non-null   float64\n",
      " 68  ScreenPorch    1460 non-null   float64\n",
      " 69  PoolArea       1460 non-null   float64\n",
      " 70  MiscVal        1460 non-null   float64\n",
      " 71  MoSold         1460 non-null   float64\n",
      " 72  YrSold         1460 non-null   float64\n",
      " 73  SaleType       1460 non-null   int64  \n",
      " 74  SaleCondition  1460 non-null   int64  \n",
      "dtypes: float64(36), int64(39)\n",
      "memory usage: 855.6 KB\n"
     ]
    }
   ],
   "source": [
    "X.info()"
   ]
  },
  {
   "cell_type": "code",
   "execution_count": 15,
   "metadata": {
    "execution": {
     "iopub.execute_input": "2021-01-01T12:14:52.650369Z",
     "iopub.status.busy": "2021-01-01T12:14:52.649291Z",
     "iopub.status.idle": "2021-01-01T12:14:52.653328Z",
     "shell.execute_reply": "2021-01-01T12:14:52.652623Z"
    },
    "papermill": {
     "duration": 0.036657,
     "end_time": "2021-01-01T12:14:52.653446",
     "exception": false,
     "start_time": "2021-01-01T12:14:52.616789",
     "status": "completed"
    },
    "tags": []
   },
   "outputs": [],
   "source": [
    "X = X.values\n",
    "y = y.values"
   ]
  },
  {
   "cell_type": "code",
   "execution_count": 16,
   "metadata": {
    "execution": {
     "iopub.execute_input": "2021-01-01T12:14:52.717239Z",
     "iopub.status.busy": "2021-01-01T12:14:52.715804Z",
     "iopub.status.idle": "2021-01-01T12:14:52.720239Z",
     "shell.execute_reply": "2021-01-01T12:14:52.719585Z"
    },
    "papermill": {
     "duration": 0.03839,
     "end_time": "2021-01-01T12:14:52.720364",
     "exception": false,
     "start_time": "2021-01-01T12:14:52.681974",
     "status": "completed"
    },
    "tags": []
   },
   "outputs": [],
   "source": [
    "X_train, X_valid, y_train, y_valid = train_test_split(X, y, test_size=0.2, random_state=101)"
   ]
  },
  {
   "cell_type": "code",
   "execution_count": 17,
   "metadata": {
    "execution": {
     "iopub.execute_input": "2021-01-01T12:14:52.784898Z",
     "iopub.status.busy": "2021-01-01T12:14:52.784208Z",
     "iopub.status.idle": "2021-01-01T12:14:52.928201Z",
     "shell.execute_reply": "2021-01-01T12:14:52.927086Z"
    },
    "papermill": {
     "duration": 0.179586,
     "end_time": "2021-01-01T12:14:52.928403",
     "exception": false,
     "start_time": "2021-01-01T12:14:52.748817",
     "status": "completed"
    },
    "tags": []
   },
   "outputs": [
    {
     "name": "stdout",
     "output_type": "stream",
     "text": [
      "Accuray of Linear Regresion: 59.04%\n",
      "RMSE of Linear Regression: 49381.32\n"
     ]
    }
   ],
   "source": [
    "lr = LinearRegression()\n",
    "lr.fit(X_train, y_train)\n",
    "pred_lr = lr.predict(X_valid)\n",
    "\n",
    "print('Accuray of Linear Regresion: {:.2f}%'.format(lr.score(X_valid, y_valid)*100))\n",
    "print('RMSE of Linear Regression: {:.2f}'.format(mean_squared_error(y_valid, pred_lr, squared=False)))"
   ]
  },
  {
   "cell_type": "code",
   "execution_count": 18,
   "metadata": {
    "execution": {
     "iopub.execute_input": "2021-01-01T12:14:52.996932Z",
     "iopub.status.busy": "2021-01-01T12:14:52.996226Z",
     "iopub.status.idle": "2021-01-01T12:14:53.018218Z",
     "shell.execute_reply": "2021-01-01T12:14:53.017565Z"
    },
    "papermill": {
     "duration": 0.059525,
     "end_time": "2021-01-01T12:14:53.018345",
     "exception": false,
     "start_time": "2021-01-01T12:14:52.958820",
     "status": "completed"
    },
    "tags": []
   },
   "outputs": [
    {
     "name": "stdout",
     "output_type": "stream",
     "text": [
      "Accuray of Ridge Regresion: 59.05%\n",
      "RMSE of Ridge Regression: 49374.04\n"
     ]
    }
   ],
   "source": [
    "ridge = Ridge(alpha=1)\n",
    "ridge.fit(X_train, y_train)\n",
    "pred_ridge = ridge.predict(X_valid)\n",
    "\n",
    "print('Accuray of Ridge Regresion: {:.2f}%'.format(ridge.score(X_valid, y_valid)*100))\n",
    "print('RMSE of Ridge Regression: {:.2f}'.format(mean_squared_error(y_valid, pred_ridge, squared=False)))"
   ]
  },
  {
   "cell_type": "code",
   "execution_count": 19,
   "metadata": {
    "execution": {
     "iopub.execute_input": "2021-01-01T12:14:53.088381Z",
     "iopub.status.busy": "2021-01-01T12:14:53.087113Z",
     "iopub.status.idle": "2021-01-01T12:14:53.133132Z",
     "shell.execute_reply": "2021-01-01T12:14:53.132381Z"
    },
    "papermill": {
     "duration": 0.084359,
     "end_time": "2021-01-01T12:14:53.133256",
     "exception": false,
     "start_time": "2021-01-01T12:14:53.048897",
     "status": "completed"
    },
    "tags": []
   },
   "outputs": [
    {
     "name": "stdout",
     "output_type": "stream",
     "text": [
      "Accuray of 2nd degree Polynomial Regresion: 59.04%\n",
      "RMSE of 2nd degree Polynomial Regression: 49381.32\n"
     ]
    }
   ],
   "source": [
    "poly_feat = PolynomialFeatures(degree=2)\n",
    "poly_feat.fit_transform(X_train)\n",
    "poly_feat.transform(X_valid)\n",
    "poly = LinearRegression().fit(X_train, y_train)\n",
    "pred_poly2 = poly.predict(X_valid)\n",
    "\n",
    "print('Accuray of 2nd degree Polynomial Regresion: {:.2f}%'.format(poly.score(X_valid, y_valid)*100))\n",
    "print('RMSE of 2nd degree Polynomial Regression: {:.2f}'.format(mean_squared_error(y_valid, pred_poly2, squared=False)))"
   ]
  },
  {
   "cell_type": "code",
   "execution_count": 20,
   "metadata": {
    "execution": {
     "iopub.execute_input": "2021-01-01T12:14:53.209528Z",
     "iopub.status.busy": "2021-01-01T12:14:53.208087Z",
     "iopub.status.idle": "2021-01-01T12:14:53.869549Z",
     "shell.execute_reply": "2021-01-01T12:14:53.868737Z"
    },
    "papermill": {
     "duration": 0.706191,
     "end_time": "2021-01-01T12:14:53.869676",
     "exception": false,
     "start_time": "2021-01-01T12:14:53.163485",
     "status": "completed"
    },
    "tags": []
   },
   "outputs": [
    {
     "name": "stdout",
     "output_type": "stream",
     "text": [
      "Accuray of 3rd degree Polynomial Regresion: 59.04%\n",
      "RMSE of 3rd degree Polynomial Regression: 49381.32\n"
     ]
    }
   ],
   "source": [
    "poly_feat = PolynomialFeatures(degree=3)\n",
    "poly_feat.fit_transform(X_train)\n",
    "poly_feat.transform(X_valid)\n",
    "poly = LinearRegression().fit(X_train, y_train)\n",
    "pred_poly3 = poly.predict(X_valid)\n",
    "\n",
    "print('Accuray of 3rd degree Polynomial Regresion: {:.2f}%'.format(poly.score(X_valid, y_valid)*100))\n",
    "print('RMSE of 3rd degree Polynomial Regression: {:.2f}'.format(mean_squared_error(y_valid, pred_poly3, squared=False)))"
   ]
  },
  {
   "cell_type": "code",
   "execution_count": 21,
   "metadata": {
    "execution": {
     "iopub.execute_input": "2021-01-01T12:14:53.940333Z",
     "iopub.status.busy": "2021-01-01T12:14:53.939501Z",
     "iopub.status.idle": "2021-01-01T12:14:53.973942Z",
     "shell.execute_reply": "2021-01-01T12:14:53.974517Z"
    },
    "papermill": {
     "duration": 0.07398,
     "end_time": "2021-01-01T12:14:53.974678",
     "exception": false,
     "start_time": "2021-01-01T12:14:53.900698",
     "status": "completed"
    },
    "tags": []
   },
   "outputs": [
    {
     "name": "stdout",
     "output_type": "stream",
     "text": [
      "Accuray of KNRegresion: 58.05%\n",
      "RMSE of KNRegression: 49971.55\n"
     ]
    }
   ],
   "source": [
    "knr = KNeighborsRegressor(n_neighbors=1)\n",
    "knr.fit(X_train, y_train)\n",
    "pred_knr = knr.predict(X_valid)\n",
    "\n",
    "print('Accuray of KNRegresion: {:.2f}%'.format(knr.score(X_valid, y_valid)*100))\n",
    "print('RMSE of KNRegression: {:.2f}'.format(mean_squared_error(y_valid, pred_knr, squared=False)))"
   ]
  },
  {
   "cell_type": "code",
   "execution_count": 22,
   "metadata": {
    "execution": {
     "iopub.execute_input": "2021-01-01T12:14:54.046344Z",
     "iopub.status.busy": "2021-01-01T12:14:54.045573Z",
     "iopub.status.idle": "2021-01-01T12:14:54.676736Z",
     "shell.execute_reply": "2021-01-01T12:14:54.677457Z"
    },
    "papermill": {
     "duration": 0.67189,
     "end_time": "2021-01-01T12:14:54.677611",
     "exception": false,
     "start_time": "2021-01-01T12:14:54.005721",
     "status": "completed"
    },
    "tags": []
   },
   "outputs": [
    {
     "name": "stdout",
     "output_type": "stream",
     "text": [
      "Maximum score of n is: 3\n"
     ]
    },
    {
     "data": {
      "image/png": "[encoded data removed]",
      "text/plain": [
       "<Figure size 432x288 with 1 Axes>"
      ]
     },
     "metadata": {
      "needs_background": "light"
     },
     "output_type": "display_data"
    }
   ],
   "source": [
    "score_lst = []\n",
    "\n",
    "for i in range(20):\n",
    "    knr2 = KNeighborsRegressor(n_neighbors=(i+1))\n",
    "    knr2.fit(X_train, y_train)\n",
    "    score = knr2.score(X_valid, y_valid)\n",
    "    score_lst.append(score)\n",
    "    \n",
    "plt.plot(range(1,21), score_lst)\n",
    "print(\"Maximum score of n is:\", pd.Series(score_lst).idxmax()+1)"
   ]
  },
  {
   "cell_type": "code",
   "execution_count": 23,
   "metadata": {
    "execution": {
     "iopub.execute_input": "2021-01-01T12:14:54.753893Z",
     "iopub.status.busy": "2021-01-01T12:14:54.752840Z",
     "iopub.status.idle": "2021-01-01T12:14:54.759493Z",
     "shell.execute_reply": "2021-01-01T12:14:54.758926Z"
    },
    "papermill": {
     "duration": 0.044832,
     "end_time": "2021-01-01T12:14:54.759613",
     "exception": false,
     "start_time": "2021-01-01T12:14:54.714781",
     "status": "completed"
    },
    "tags": []
   },
   "outputs": [],
   "source": [
    "max_n = pd.Series(score_lst).idxmax()+1"
   ]
  },
  {
   "cell_type": "code",
   "execution_count": 24,
   "metadata": {
    "execution": {
     "iopub.execute_input": "2021-01-01T12:14:54.834695Z",
     "iopub.status.busy": "2021-01-01T12:14:54.833677Z",
     "iopub.status.idle": "2021-01-01T12:14:54.872286Z",
     "shell.execute_reply": "2021-01-01T12:14:54.873008Z"
    },
    "papermill": {
     "duration": 0.080282,
     "end_time": "2021-01-01T12:14:54.873227",
     "exception": false,
     "start_time": "2021-01-01T12:14:54.792945",
     "status": "completed"
    },
    "tags": []
   },
   "outputs": [
    {
     "name": "stdout",
     "output_type": "stream",
     "text": [
      "Accuray of KNRegresion: 64.79%\n",
      "RMSE of KNRegression: 45779.84\n"
     ]
    }
   ],
   "source": [
    "knr = KNeighborsRegressor(n_neighbors=max_n)\n",
    "knr.fit(X_train, y_train)\n",
    "pred_knr = knr.predict(X_valid)\n",
    "\n",
    "print('Accuray of KNRegresion: {:.2f}%'.format(knr.score(X_valid, y_valid)*100))\n",
    "print('RMSE of KNRegression: {:.2f}'.format(mean_squared_error(y_valid, pred_knr, squared=False)))"
   ]
  },
  {
   "cell_type": "code",
   "execution_count": 25,
   "metadata": {
    "execution": {
     "iopub.execute_input": "2021-01-01T12:14:54.948854Z",
     "iopub.status.busy": "2021-01-01T12:14:54.947822Z",
     "iopub.status.idle": "2021-01-01T12:15:36.992491Z",
     "shell.execute_reply": "2021-01-01T12:15:36.993469Z"
    },
    "papermill": {
     "duration": 42.086881,
     "end_time": "2021-01-01T12:15:36.993676",
     "exception": false,
     "start_time": "2021-01-01T12:14:54.906795",
     "status": "completed"
    },
    "tags": []
   },
   "outputs": [
    {
     "name": "stdout",
     "output_type": "stream",
     "text": [
      "Accuray of SVRegresion: 53.48%\n",
      "RMSE of SVRegression: 52624.49\n"
     ]
    }
   ],
   "source": [
    "svr = SVR(kernel = 'linear')\n",
    "svr.fit(X_train, y_train.ravel())\n",
    "pred_svr = svr.predict(X_valid)\n",
    "\n",
    "print('Accuray of SVRegresion: {:.2f}%'.format(svr.score(X_valid, y_valid)*100))\n",
    "print('RMSE of SVRegression: {:.2f}'.format(mean_squared_error(y_valid, pred_svr, squared=False)))"
   ]
  },
  {
   "cell_type": "code",
   "execution_count": 26,
   "metadata": {
    "execution": {
     "iopub.execute_input": "2021-01-01T12:15:37.066356Z",
     "iopub.status.busy": "2021-01-01T12:15:37.065332Z",
     "iopub.status.idle": "2021-01-01T12:15:37.068502Z",
     "shell.execute_reply": "2021-01-01T12:15:37.067840Z"
    },
    "papermill": {
     "duration": 0.040936,
     "end_time": "2021-01-01T12:15:37.068610",
     "exception": false,
     "start_time": "2021-01-01T12:15:37.027674",
     "status": "completed"
    },
    "tags": []
   },
   "outputs": [],
   "source": [
    "# param = {'kernel' : ('linear', 'poly', 'rbf', 'sigmoid'), \n",
    "#          'C' : [0.1, 1, 100, 1000], \n",
    "#          'degree' : [2, 3, 4, 5], \n",
    "#          'gamma': [0.0001, 0.001, 0.005, 0.1, 1, 3, 5],\n",
    "#          'epsilon': [0.0001, 0.0005, 0.001, 0.005, 0.01, 0.05, 0.1, 0.5, 1, 5, 10],\n",
    "#          'coef0' : [0.01, 0.1, 1, 10], \n",
    "#          'gamma' : ('auto', 'scale')}\n",
    "\n",
    "# clf = GridSearchCV(SVR(), param)\n",
    "# clf.fit(X_train, y_train.ravel())"
   ]
  },
  {
   "cell_type": "code",
   "execution_count": 27,
   "metadata": {
    "execution": {
     "iopub.execute_input": "2021-01-01T12:15:37.144938Z",
     "iopub.status.busy": "2021-01-01T12:15:37.142888Z",
     "iopub.status.idle": "2021-01-01T12:15:37.180132Z",
     "shell.execute_reply": "2021-01-01T12:15:37.179460Z"
    },
    "papermill": {
     "duration": 0.077695,
     "end_time": "2021-01-01T12:15:37.180246",
     "exception": false,
     "start_time": "2021-01-01T12:15:37.102551",
     "status": "completed"
    },
    "tags": []
   },
   "outputs": [
    {
     "name": "stdout",
     "output_type": "stream",
     "text": [
      "Accuray of DTRegresion: 80.92%\n",
      "RMSE of DTRegression: 33702.37\n"
     ]
    }
   ],
   "source": [
    "dtr = DecisionTreeRegressor()\n",
    "dtr.fit(X_train, y_train)\n",
    "pred_dtr = dtr.predict(X_valid)\n",
    "\n",
    "print('Accuray of DTRegresion: {:.2f}%'.format(dtr.score(X_valid, y_valid)*100))\n",
    "print('RMSE of DTRegression: {:.2f}'.format(mean_squared_error(y_valid, pred_dtr, squared=False)))"
   ]
  },
  {
   "cell_type": "code",
   "execution_count": 28,
   "metadata": {
    "execution": {
     "iopub.execute_input": "2021-01-01T12:15:37.262884Z",
     "iopub.status.busy": "2021-01-01T12:15:37.257500Z",
     "iopub.status.idle": "2021-01-01T12:15:39.245402Z",
     "shell.execute_reply": "2021-01-01T12:15:39.244313Z"
    },
    "papermill": {
     "duration": 2.031007,
     "end_time": "2021-01-01T12:15:39.245553",
     "exception": false,
     "start_time": "2021-01-01T12:15:37.214546",
     "status": "completed"
    },
    "tags": []
   },
   "outputs": [
    {
     "name": "stdout",
     "output_type": "stream",
     "text": [
      "Accuray of RFRegresion: 80.80%\n",
      "RMSE of RFRegression: 33810.37\n"
     ]
    }
   ],
   "source": [
    "rfr = RandomForestRegressor()\n",
    "rfr.fit(X_train, y_train.ravel())\n",
    "pred_rfr = rfr.predict(X_valid)\n",
    "\n",
    "print('Accuray of RFRegresion: {:.2f}%'.format(rfr.score(X_valid, y_valid)*100))\n",
    "print('RMSE of RFRegression: {:.2f}'.format(mean_squared_error(y_valid, pred_rfr, squared=False)))"
   ]
  },
  {
   "cell_type": "code",
   "execution_count": 29,
   "metadata": {
    "execution": {
     "iopub.execute_input": "2021-01-01T12:15:39.324470Z",
     "iopub.status.busy": "2021-01-01T12:15:39.323741Z",
     "iopub.status.idle": "2021-01-01T12:17:26.305082Z",
     "shell.execute_reply": "2021-01-01T12:17:26.304503Z"
    },
    "papermill": {
     "duration": 107.024368,
     "end_time": "2021-01-01T12:17:26.305198",
     "exception": false,
     "start_time": "2021-01-01T12:15:39.280830",
     "status": "completed"
    },
    "tags": []
   },
   "outputs": [
    {
     "name": "stdout",
     "output_type": "stream",
     "text": [
      "Maximum score of n is: 700\n"
     ]
    },
    {
     "data": {
      "image/png": "[encoded data removed]",
      "text/plain": [
       "<Figure size 432x288 with 1 Axes>"
      ]
     },
     "metadata": {
      "needs_background": "light"
     },
     "output_type": "display_data"
    }
   ],
   "source": [
    "score_lst = []\n",
    "\n",
    "for i in np.linspace(100, 1000, 10, dtype=int):\n",
    "    rfr2 = RandomForestRegressor(n_estimators=i)\n",
    "    rfr2.fit(X_train, y_train.ravel())\n",
    "    score = rfr2.score(X_valid, y_valid)\n",
    "    score_lst.append(score)\n",
    "    \n",
    "plt.plot(np.linspace(100, 1000, 10, dtype=int), score_lst)\n",
    "print(\"Maximum score of n is:\", (pd.Series(score_lst).idxmax()+1)*100)"
   ]
  },
  {
   "cell_type": "code",
   "execution_count": 30,
   "metadata": {
    "execution": {
     "iopub.execute_input": "2021-01-01T12:17:26.383127Z",
     "iopub.status.busy": "2021-01-01T12:17:26.382456Z",
     "iopub.status.idle": "2021-01-01T12:17:26.385691Z",
     "shell.execute_reply": "2021-01-01T12:17:26.385153Z"
    },
    "papermill": {
     "duration": 0.044686,
     "end_time": "2021-01-01T12:17:26.385810",
     "exception": false,
     "start_time": "2021-01-01T12:17:26.341124",
     "status": "completed"
    },
    "tags": []
   },
   "outputs": [],
   "source": [
    "max_est = (pd.Series(score_lst).idxmax()+1)*100"
   ]
  },
  {
   "cell_type": "code",
   "execution_count": 31,
   "metadata": {
    "execution": {
     "iopub.execute_input": "2021-01-01T12:17:26.465822Z",
     "iopub.status.busy": "2021-01-01T12:17:26.465176Z",
     "iopub.status.idle": "2021-01-01T12:17:40.307392Z",
     "shell.execute_reply": "2021-01-01T12:17:40.306811Z"
    },
    "papermill": {
     "duration": 13.885218,
     "end_time": "2021-01-01T12:17:40.307516",
     "exception": false,
     "start_time": "2021-01-01T12:17:26.422298",
     "status": "completed"
    },
    "tags": []
   },
   "outputs": [
    {
     "name": "stdout",
     "output_type": "stream",
     "text": [
      "Accuray of RFRegresion: 82.71%\n",
      "RMSE of RFRegression: 32084.35\n"
     ]
    }
   ],
   "source": [
    "rfr = RandomForestRegressor(n_estimators=max_est)\n",
    "rfr.fit(X_train, y_train.ravel())\n",
    "pred_rfr = rfr.predict(X_valid)\n",
    "\n",
    "print('Accuray of RFRegresion: {:.2f}%'.format(rfr.score(X_valid, y_valid)*100))\n",
    "print('RMSE of RFRegression: {:.2f}'.format(mean_squared_error(y_valid, pred_rfr, squared=False)))"
   ]
  },
  {
   "cell_type": "code",
   "execution_count": 32,
   "metadata": {
    "execution": {
     "iopub.execute_input": "2021-01-01T12:17:40.388690Z",
     "iopub.status.busy": "2021-01-01T12:17:40.387712Z",
     "iopub.status.idle": "2021-01-01T12:17:42.977419Z",
     "shell.execute_reply": "2021-01-01T12:17:42.978664Z"
    },
    "papermill": {
     "duration": 2.634495,
     "end_time": "2021-01-01T12:17:42.978911",
     "exception": false,
     "start_time": "2021-01-01T12:17:40.344416",
     "status": "completed"
    },
    "tags": []
   },
   "outputs": [
    {
     "name": "stdout",
     "output_type": "stream",
     "text": [
      "Accuray of XGBRegresion: 87.13%\n",
      "RMSE of XGBRegression: 27674.78\n"
     ]
    }
   ],
   "source": [
    "xgbr = XGBRegressor(n_estimators = 1000, learning_rate = 0.1, seed = 101)\n",
    "xgbr.fit(X_train, y_train)\n",
    "pred_xgbr = xgbr.predict(X_valid)\n",
    "\n",
    "print('Accuray of XGBRegresion: {:.2f}%'.format(xgbr.score(X_valid, y_valid)*100))\n",
    "print('RMSE of XGBRegression: {:.2f}'.format(mean_squared_error(y_valid, pred_xgbr, squared=False)))"
   ]
  },
  {
   "cell_type": "code",
   "execution_count": 33,
   "metadata": {
    "execution": {
     "iopub.execute_input": "2021-01-01T12:17:43.084899Z",
     "iopub.status.busy": "2021-01-01T12:17:43.084057Z",
     "iopub.status.idle": "2021-01-01T12:17:43.086265Z",
     "shell.execute_reply": "2021-01-01T12:17:43.086949Z"
    },
    "papermill": {
     "duration": 0.057633,
     "end_time": "2021-01-01T12:17:43.087142",
     "exception": false,
     "start_time": "2021-01-01T12:17:43.029509",
     "status": "completed"
    },
    "tags": []
   },
   "outputs": [],
   "source": [
    "# for tuning parameters\n",
    "# parameters_for_testing = {\n",
    "#    'colsample_bytree':[0.4, 0.6, 0.8],\n",
    "#    'gamma':[0, 0.01, 0.1, 1],\n",
    "#    'min_child_weight':[1.5, 6, 10],\n",
    "#    'learning_rate':[0.01, 0.1],\n",
    "#    'max_depth':[3, 5],\n",
    "#    'n_estimators':[1, 10, 100, 1000],\n",
    "#    'reg_alpha':[1e-5, 1e-2,  0.75],\n",
    "#    'reg_lambda':[1e-5, 1e-2, 0.45],\n",
    "#    'subsample':[0.6, 0.95]  \n",
    "# }\n",
    "\n",
    "                    \n",
    "# xgb_model = XGBRegressor(learning_rate =0.1, \n",
    "#                          n_estimators=10, \n",
    "#                          max_depth=5, \n",
    "#                          min_child_weight=1, \n",
    "#                          gamma=0, \n",
    "#                          subsample=0.8, \n",
    "#                          colsample_bytree=0.8, \n",
    "#                          nthread=6, \n",
    "#                          scale_pos_weight=1, \n",
    "#                          seed=101)\n",
    "\n",
    "# gsearch1 = GridSearchCV(estimator = xgb_model, param_grid = parameters_for_testing, n_jobs=6,iid=False, verbose=10,scoring='neg_mean_squared_error')\n",
    "# gsearch1.fit(X_train, y_train)"
   ]
  },
  {
   "cell_type": "code",
   "execution_count": 34,
   "metadata": {
    "execution": {
     "iopub.execute_input": "2021-01-01T12:17:43.187649Z",
     "iopub.status.busy": "2021-01-01T12:17:43.186934Z",
     "iopub.status.idle": "2021-01-01T12:17:43.189554Z",
     "shell.execute_reply": "2021-01-01T12:17:43.188967Z"
    },
    "papermill": {
     "duration": 0.05331,
     "end_time": "2021-01-01T12:17:43.189661",
     "exception": false,
     "start_time": "2021-01-01T12:17:43.136351",
     "status": "completed"
    },
    "tags": []
   },
   "outputs": [],
   "source": [
    "# print('best params')\n",
    "# print (gsearch1.best_params_)\n",
    "# print('best score')\n",
    "# print (gsearch1.best_score_)"
   ]
  },
  {
   "cell_type": "code",
   "execution_count": 35,
   "metadata": {
    "execution": {
     "iopub.execute_input": "2021-01-01T12:17:43.269075Z",
     "iopub.status.busy": "2021-01-01T12:17:43.268381Z",
     "iopub.status.idle": "2021-01-01T12:17:43.440933Z",
     "shell.execute_reply": "2021-01-01T12:17:43.440347Z"
    },
    "papermill": {
     "duration": 0.213848,
     "end_time": "2021-01-01T12:17:43.441091",
     "exception": false,
     "start_time": "2021-01-01T12:17:43.227243",
     "status": "completed"
    },
    "tags": []
   },
   "outputs": [],
   "source": [
    "X_test = test_df\n",
    "X_test[cat_col] = imputer_col.fit_transform(X_test[cat_col])\n",
    "X_test[cat_col] = X_test[cat_col].apply(encoder.fit_transform)\n",
    "X_test[num_col] = imputer_num.fit_transform(X_test[num_col])\n",
    "X_test = X_test.values"
   ]
  },
  {
   "cell_type": "code",
   "execution_count": 36,
   "metadata": {
    "execution": {
     "iopub.execute_input": "2021-01-01T12:17:43.523335Z",
     "iopub.status.busy": "2021-01-01T12:17:43.522596Z",
     "iopub.status.idle": "2021-01-01T12:17:43.568769Z",
     "shell.execute_reply": "2021-01-01T12:17:43.569848Z"
    },
    "papermill": {
     "duration": 0.090025,
     "end_time": "2021-01-01T12:17:43.570040",
     "exception": false,
     "start_time": "2021-01-01T12:17:43.480015",
     "status": "completed"
    },
    "tags": []
   },
   "outputs": [],
   "source": [
    "pred_test = xgbr.predict(X_test)"
   ]
  },
  {
   "cell_type": "code",
   "execution_count": 37,
   "metadata": {
    "execution": {
     "iopub.execute_input": "2021-01-01T12:17:43.679280Z",
     "iopub.status.busy": "2021-01-01T12:17:43.678282Z",
     "iopub.status.idle": "2021-01-01T12:17:43.682182Z",
     "shell.execute_reply": "2021-01-01T12:17:43.680014Z"
    },
    "papermill": {
     "duration": 0.062539,
     "end_time": "2021-01-01T12:17:43.682331",
     "exception": false,
     "start_time": "2021-01-01T12:17:43.619792",
     "status": "completed"
    },
    "tags": []
   },
   "outputs": [
    {
     "data": {
      "text/plain": [
       "array([120946.06, 156992.47, 179046.16, ..., 169128.84, 112172.57,\n",
       "       217928.38], dtype=float32)"
      ]
     },
     "execution_count": 37,
     "metadata": {},
     "output_type": "execute_result"
    }
   ],
   "source": [
    "pred_test"
   ]
  }
 ],
 "metadata": {
  "kernelspec": {
   "display_name": "Python 3",
   "language": "python",
   "name": "python3"
  },
  "language_info": {
   "codemirror_mode": {
    "name": "ipython",
    "version": 3
   },
   "file_extension": ".py",
   "mimetype": "text/x-python",
   "name": "python",
   "nbconvert_exporter": "python",
   "pygments_lexer": "ipython3",
   "version": "3.7.6"
  },
  "papermill": {
   "duration": 179.910737,
   "end_time": "2021-01-01T12:17:43.841383",
   "environment_variables": {},
   "exception": null,
   "input_path": "__notebook__.ipynb",
   "output_path": "__notebook__.ipynb",
   "parameters": {},
   "start_time": "2021-01-01T12:14:43.930646",
   "version": "2.1.0"
  }
 },
 "nbformat": 4,
 "nbformat_minor": 4
}
