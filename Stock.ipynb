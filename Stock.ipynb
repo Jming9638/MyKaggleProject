{
  "nbformat": 4,
  "nbformat_minor": 0,
  "metadata": {
    "colab": {
      "name": "Stock.ipynb",
      "provenance": [],
      "collapsed_sections": [],
      "authorship_tag": "ABX9TyPq9549uGmFzv0sORTakoEE"
    },
    "kernelspec": {
      "name": "python3",
      "display_name": "Python 3"
    }
  },
  "cells": [
    {
      "cell_type": "code",
      "metadata": {
        "id": "WXHp7UzKTxrQ"
      },
      "source": [
        "# Description: This program uses an artificial recurrent neural network called Long Short Term Memory (LSTM)"
      ],
      "execution_count": 1,
      "outputs": []
    },
    {
      "cell_type": "code",
      "metadata": {
        "id": "CKnAG0qaUPDa"
      },
      "source": [
        "import pandas as pd\r\n",
        "import numpy as np\r\n",
        "import math\r\n",
        "import pandas_datareader as web\r\n",
        "import matplotlib.pyplot as plt\r\n",
        "from sklearn.preprocessing import MinMaxScaler\r\n",
        "from keras.models import Sequential\r\n",
        "from keras.layers import Dense, LSTM, Dropout\r\n",
        "plt.style.use(\"fivethirtyeight\")"
      ],
      "execution_count": 2,
      "outputs": []
    },
    {
      "cell_type": "code",
      "metadata": {
        "colab": {
          "base_uri": "https://localhost:8080/",
          "height": 450
        },
        "id": "sxdxDXXTU4oS",
        "outputId": "5dc89388-07b3-4e7b-cafb-3ec88da71e90"
      },
      "source": [
        "# Hartalega stock\r\n",
        "df = web.DataReader(\"5168.KL\", data_source='yahoo', start='2012-01-01', end='2020-12-23')\r\n",
        "df"
      ],
      "execution_count": 3,
      "outputs": [
        {
          "output_type": "execute_result",
          "data": {
            "text/html": [
              "<div>\n",
              "<style scoped>\n",
              "    .dataframe tbody tr th:only-of-type {\n",
              "        vertical-align: middle;\n",
              "    }\n",
              "\n",
              "    .dataframe tbody tr th {\n",
              "        vertical-align: top;\n",
              "    }\n",
              "\n",
              "    .dataframe thead th {\n",
              "        text-align: right;\n",
              "    }\n",
              "</style>\n",
              "<table border=\"1\" class=\"dataframe\">\n",
              "  <thead>\n",
              "    <tr style=\"text-align: right;\">\n",
              "      <th></th>\n",
              "      <th>High</th>\n",
              "      <th>Low</th>\n",
              "      <th>Open</th>\n",
              "      <th>Close</th>\n",
              "      <th>Volume</th>\n",
              "      <th>Adj Close</th>\n",
              "    </tr>\n",
              "    <tr>\n",
              "      <th>Date</th>\n",
              "      <th></th>\n",
              "      <th></th>\n",
              "      <th></th>\n",
              "      <th></th>\n",
              "      <th></th>\n",
              "      <th></th>\n",
              "    </tr>\n",
              "  </thead>\n",
              "  <tbody>\n",
              "    <tr>\n",
              "      <th>2012-01-03</th>\n",
              "      <td>0.74000</td>\n",
              "      <td>0.73000</td>\n",
              "      <td>0.73000</td>\n",
              "      <td>0.73375</td>\n",
              "      <td>10047200.0</td>\n",
              "      <td>0.435486</td>\n",
              "    </tr>\n",
              "    <tr>\n",
              "      <th>2012-01-04</th>\n",
              "      <td>0.73750</td>\n",
              "      <td>0.71375</td>\n",
              "      <td>0.73500</td>\n",
              "      <td>0.73750</td>\n",
              "      <td>681600.0</td>\n",
              "      <td>0.437712</td>\n",
              "    </tr>\n",
              "    <tr>\n",
              "      <th>2012-01-05</th>\n",
              "      <td>0.74375</td>\n",
              "      <td>0.73750</td>\n",
              "      <td>0.74375</td>\n",
              "      <td>0.73875</td>\n",
              "      <td>1246400.0</td>\n",
              "      <td>0.438453</td>\n",
              "    </tr>\n",
              "    <tr>\n",
              "      <th>2012-01-06</th>\n",
              "      <td>0.74750</td>\n",
              "      <td>0.73875</td>\n",
              "      <td>0.74125</td>\n",
              "      <td>0.74125</td>\n",
              "      <td>2004000.0</td>\n",
              "      <td>0.439937</td>\n",
              "    </tr>\n",
              "    <tr>\n",
              "      <th>2012-01-09</th>\n",
              "      <td>0.74875</td>\n",
              "      <td>0.74500</td>\n",
              "      <td>0.74750</td>\n",
              "      <td>0.74750</td>\n",
              "      <td>244800.0</td>\n",
              "      <td>0.443647</td>\n",
              "    </tr>\n",
              "    <tr>\n",
              "      <th>...</th>\n",
              "      <td>...</td>\n",
              "      <td>...</td>\n",
              "      <td>...</td>\n",
              "      <td>...</td>\n",
              "      <td>...</td>\n",
              "      <td>...</td>\n",
              "    </tr>\n",
              "    <tr>\n",
              "      <th>2020-12-18</th>\n",
              "      <td>12.50000</td>\n",
              "      <td>12.26000</td>\n",
              "      <td>12.38000</td>\n",
              "      <td>12.36000</td>\n",
              "      <td>3385100.0</td>\n",
              "      <td>12.360000</td>\n",
              "    </tr>\n",
              "    <tr>\n",
              "      <th>2020-12-21</th>\n",
              "      <td>12.68000</td>\n",
              "      <td>12.28000</td>\n",
              "      <td>12.40000</td>\n",
              "      <td>12.50000</td>\n",
              "      <td>2782900.0</td>\n",
              "      <td>12.500000</td>\n",
              "    </tr>\n",
              "    <tr>\n",
              "      <th>2020-12-22</th>\n",
              "      <td>12.70000</td>\n",
              "      <td>12.50000</td>\n",
              "      <td>12.50000</td>\n",
              "      <td>12.60000</td>\n",
              "      <td>2462900.0</td>\n",
              "      <td>12.600000</td>\n",
              "    </tr>\n",
              "    <tr>\n",
              "      <th>2020-12-23</th>\n",
              "      <td>12.82000</td>\n",
              "      <td>12.56000</td>\n",
              "      <td>12.60000</td>\n",
              "      <td>12.72000</td>\n",
              "      <td>2680000.0</td>\n",
              "      <td>12.720000</td>\n",
              "    </tr>\n",
              "    <tr>\n",
              "      <th>2020-12-24</th>\n",
              "      <td>12.74000</td>\n",
              "      <td>12.50000</td>\n",
              "      <td>12.72000</td>\n",
              "      <td>12.58000</td>\n",
              "      <td>1088400.0</td>\n",
              "      <td>12.580000</td>\n",
              "    </tr>\n",
              "  </tbody>\n",
              "</table>\n",
              "<p>2218 rows × 6 columns</p>\n",
              "</div>"
            ],
            "text/plain": [
              "                High       Low      Open     Close      Volume  Adj Close\n",
              "Date                                                                     \n",
              "2012-01-03   0.74000   0.73000   0.73000   0.73375  10047200.0   0.435486\n",
              "2012-01-04   0.73750   0.71375   0.73500   0.73750    681600.0   0.437712\n",
              "2012-01-05   0.74375   0.73750   0.74375   0.73875   1246400.0   0.438453\n",
              "2012-01-06   0.74750   0.73875   0.74125   0.74125   2004000.0   0.439937\n",
              "2012-01-09   0.74875   0.74500   0.74750   0.74750    244800.0   0.443647\n",
              "...              ...       ...       ...       ...         ...        ...\n",
              "2020-12-18  12.50000  12.26000  12.38000  12.36000   3385100.0  12.360000\n",
              "2020-12-21  12.68000  12.28000  12.40000  12.50000   2782900.0  12.500000\n",
              "2020-12-22  12.70000  12.50000  12.50000  12.60000   2462900.0  12.600000\n",
              "2020-12-23  12.82000  12.56000  12.60000  12.72000   2680000.0  12.720000\n",
              "2020-12-24  12.74000  12.50000  12.72000  12.58000   1088400.0  12.580000\n",
              "\n",
              "[2218 rows x 6 columns]"
            ]
          },
          "metadata": {
            "tags": []
          },
          "execution_count": 3
        }
      ]
    },
    {
      "cell_type": "code",
      "metadata": {
        "colab": {
          "base_uri": "https://localhost:8080/",
          "height": 575
        },
        "id": "HYg1ajKfVHJt",
        "outputId": "d60c7a95-6039-4176-bb59-3a4d5ca27951"
      },
      "source": [
        "plt.figure(figsize=(16, 8))\r\n",
        "plt.title(\"Close Price History\")\r\n",
        "plt.plot(df['Close'])\r\n",
        "plt.xlabel(\"Date\", fontsize=18)\r\n",
        "plt.ylabel(\"Close Price USD\", fontsize=18)"
      ],
      "execution_count": 4,
      "outputs": [
        {
          "output_type": "execute_result",
          "data": {
            "text/plain": [
              "Text(0, 0.5, 'Close Price USD')"
            ]
          },
          "metadata": {
            "tags": []
          },
          "execution_count": 4
        },
        {
          "output_type": "display_data",
          "data": {
            "image/png": "[encoded data removed]",
            "text/plain": [
              "<Figure size 1152x576 with 1 Axes>"
            ]
          },
          "metadata": {
            "tags": []
          }
        }
      ]
    },
    {
      "cell_type": "code",
      "metadata": {
        "colab": {
          "base_uri": "https://localhost:8080/"
        },
        "id": "TXsfP_eXXiV8",
        "outputId": "b242b4ce-7315-4d50-c3df-8500f854d8be"
      },
      "source": [
        "data = df.filter(['Close'])\r\n",
        "dataset = data.values\r\n",
        "\r\n",
        "train_data_len = math.ceil(len(dataset) * 0.8)\r\n",
        "print(train_data_len)"
      ],
      "execution_count": 6,
      "outputs": [
        {
          "output_type": "stream",
          "text": [
            "1775\n"
          ],
          "name": "stdout"
        }
      ]
    },
    {
      "cell_type": "code",
      "metadata": {
        "colab": {
          "base_uri": "https://localhost:8080/"
        },
        "id": "6MVXnroRYC20",
        "outputId": "dff309e2-6530-4294-82ff-a41ced9c98f1"
      },
      "source": [
        "scaler = MinMaxScaler(feature_range=(0, 1))\r\n",
        "sdata = scaler.fit_transform(dataset)\r\n",
        "\r\n",
        "sdata"
      ],
      "execution_count": 7,
      "outputs": [
        {
          "output_type": "execute_result",
          "data": {
            "text/plain": [
              "array([[0.00000000e+00],\n",
              "       [1.89718648e-04],\n",
              "       [2.52956187e-04],\n",
              "       ...,\n",
              "       [6.00328863e-01],\n",
              "       [6.06399811e-01],\n",
              "       [5.99317014e-01]])"
            ]
          },
          "metadata": {
            "tags": []
          },
          "execution_count": 7
        }
      ]
    },
    {
      "cell_type": "code",
      "metadata": {
        "id": "u4rnPD7LYjbh"
      },
      "source": [
        "# create training dataset\r\n",
        "train_data = sdata[0: train_data_len, :]\r\n",
        "\r\n",
        "X_train = []\r\n",
        "y_train = []\r\n",
        "\r\n",
        "for i in range(60, len(train_data)):\r\n",
        "    X_train.append(train_data[i-60: i, 0])\r\n",
        "    y_train.append(train_data[i, 0])"
      ],
      "execution_count": 8,
      "outputs": []
    },
    {
      "cell_type": "code",
      "metadata": {
        "id": "QAoPHUf3ZY75"
      },
      "source": [
        "X_train, y_train = np.array(X_train), np.array(y_train)"
      ],
      "execution_count": 11,
      "outputs": []
    },
    {
      "cell_type": "code",
      "metadata": {
        "colab": {
          "base_uri": "https://localhost:8080/"
        },
        "id": "ElULCFaUZx1W",
        "outputId": "9d0578ef-bd9a-4344-bc4d-e94e906430ad"
      },
      "source": [
        "# reshape the data\r\n",
        "X_train = np.reshape(X_train, (X_train.shape[0], X_train.shape[1], 1))\r\n",
        "X_train.shape"
      ],
      "execution_count": 12,
      "outputs": [
        {
          "output_type": "execute_result",
          "data": {
            "text/plain": [
              "(1715, 60, 1)"
            ]
          },
          "metadata": {
            "tags": []
          },
          "execution_count": 12
        }
      ]
    },
    {
      "cell_type": "code",
      "metadata": {
        "id": "HMePqBftZ5zZ"
      },
      "source": [
        "# build LSTM model\r\n",
        "model = Sequential()\r\n",
        "model.add(LSTM(50, return_sequences=True, input_shape=(X_train.shape[1], 1)))\r\n",
        "# model.add(Dropout(0.2))\r\n",
        "model.add(LSTM(50, return_sequences=False))\r\n",
        "# model.add(Dropout(0.2))\r\n",
        "model.add(Dense(25))\r\n",
        "# model.add(Dropout(0.5))\r\n",
        "# model.add(Dense(15, activation='relu'))\r\n",
        "# model.add(Dropout(0.2))\r\n",
        "model.add(Dense(1))\r\n",
        "\r\n",
        "# compile the model\r\n",
        "model.compile(optimizer='adam', loss='mean_squared_error')"
      ],
      "execution_count": 13,
      "outputs": []
    },
    {
      "cell_type": "code",
      "metadata": {
        "colab": {
          "base_uri": "https://localhost:8080/"
        },
        "id": "esE34-R8Lx5q",
        "outputId": "5eb7720a-138d-4485-aa19-faaea87a149f"
      },
      "source": [
        "model.fit(X_train, y_train, batch_size=3, epochs=10, verbose=1)\r\n",
        "# model.fit(X_train, y_train, batch_size=1, epochs=1)"
      ],
      "execution_count": 14,
      "outputs": [
        {
          "output_type": "stream",
          "text": [
            "Epoch 1/10\n",
            "572/572 [==============================] - 25s 38ms/step - loss: 5.6569e-04\n",
            "Epoch 2/10\n",
            "572/572 [==============================] - 21s 37ms/step - loss: 8.3351e-05\n",
            "Epoch 3/10\n",
            "572/572 [==============================] - 21s 38ms/step - loss: 9.0866e-05\n",
            "Epoch 4/10\n",
            "572/572 [==============================] - 21s 37ms/step - loss: 5.4666e-05\n",
            "Epoch 5/10\n",
            "572/572 [==============================] - 22s 38ms/step - loss: 4.7894e-05\n",
            "Epoch 6/10\n",
            "572/572 [==============================] - 22s 38ms/step - loss: 4.2795e-05\n",
            "Epoch 7/10\n",
            "572/572 [==============================] - 22s 38ms/step - loss: 3.0539e-05\n",
            "Epoch 8/10\n",
            "572/572 [==============================] - 22s 38ms/step - loss: 3.3540e-05\n",
            "Epoch 9/10\n",
            "572/572 [==============================] - 22s 38ms/step - loss: 2.0334e-05\n",
            "Epoch 10/10\n",
            "572/572 [==============================] - 22s 38ms/step - loss: 3.0135e-05\n"
          ],
          "name": "stdout"
        },
        {
          "output_type": "execute_result",
          "data": {
            "text/plain": [
              "<tensorflow.python.keras.callbacks.History at 0x7f733b882588>"
            ]
          },
          "metadata": {
            "tags": []
          },
          "execution_count": 14
        }
      ]
    },
    {
      "cell_type": "code",
      "metadata": {
        "id": "jui6ZM7TbRJT"
      },
      "source": [
        "# create testing data set\r\n",
        "test_data = sdata[train_data_len - 60:, :]\r\n",
        "\r\n",
        "X_valid = []\r\n",
        "y_valid = dataset[train_data_len:, :]\r\n",
        "\r\n",
        "for i in range(60, len(test_data)):\r\n",
        "    X_valid.append(test_data[i-60:i, 0])"
      ],
      "execution_count": 15,
      "outputs": []
    },
    {
      "cell_type": "code",
      "metadata": {
        "colab": {
          "base_uri": "https://localhost:8080/"
        },
        "id": "Cyw2WuQdUs-9",
        "outputId": "0ba6fd6d-0bfc-4568-b54f-ad80135a3df1"
      },
      "source": [
        "test_data.shape"
      ],
      "execution_count": 16,
      "outputs": [
        {
          "output_type": "execute_result",
          "data": {
            "text/plain": [
              "(503, 1)"
            ]
          },
          "metadata": {
            "tags": []
          },
          "execution_count": 16
        }
      ]
    },
    {
      "cell_type": "code",
      "metadata": {
        "id": "zv-9YEt0dyLw"
      },
      "source": [
        "X_valid = np.array(X_valid)"
      ],
      "execution_count": 17,
      "outputs": []
    },
    {
      "cell_type": "code",
      "metadata": {
        "id": "xQqBQljedHyp"
      },
      "source": [
        "X_valid = np.reshape(X_valid, (X_valid.shape[0], X_valid.shape[1], 1))"
      ],
      "execution_count": 18,
      "outputs": []
    },
    {
      "cell_type": "code",
      "metadata": {
        "id": "_KD7rVcldvpk"
      },
      "source": [
        "# get the model predicted price values\r\n",
        "predictions = model.predict(X_valid)\r\n",
        "predictions = scaler.inverse_transform(predictions)"
      ],
      "execution_count": 19,
      "outputs": []
    },
    {
      "cell_type": "code",
      "metadata": {
        "colab": {
          "base_uri": "https://localhost:8080/"
        },
        "id": "5J-W_V-YeTcs",
        "outputId": "a5605090-8351-4d55-f532-6c3faff16206"
      },
      "source": [
        "# get the root mean squared error RMSE\r\n",
        "np.sqrt(((predictions - y_valid) ** 2).mean())"
      ],
      "execution_count": 20,
      "outputs": [
        {
          "output_type": "execute_result",
          "data": {
            "text/plain": [
              "0.43855549475631517"
            ]
          },
          "metadata": {
            "tags": []
          },
          "execution_count": 20
        }
      ]
    },
    {
      "cell_type": "code",
      "metadata": {
        "colab": {
          "base_uri": "https://localhost:8080/",
          "height": 677
        },
        "id": "9SVQIADUfaXI",
        "outputId": "b762b10b-637c-4f0b-e9bd-2e25c5c8ee0a"
      },
      "source": [
        "# plot data\r\n",
        "train = data[:train_data_len]\r\n",
        "valid = data[train_data_len:]\r\n",
        "\r\n",
        "valid['predictions'] = predictions\r\n",
        "\r\n",
        "plt.figure(figsize=(16, 8))\r\n",
        "plt.title(\"model\")\r\n",
        "plt.xlabel('Data', fontsize=18)\r\n",
        "plt.ylabel('Close price USD', fontsize=18)\r\n",
        "plt.plot(train['Close'])\r\n",
        "plt.plot(valid[['Close', 'predictions']])\r\n",
        "plt.legend(['Train', 'Val', 'Prediction'])"
      ],
      "execution_count": 21,
      "outputs": [
        {
          "output_type": "stream",
          "text": [
            "/usr/local/lib/python3.6/dist-packages/ipykernel_launcher.py:5: SettingWithCopyWarning: \n",
            "A value is trying to be set on a copy of a slice from a DataFrame.\n",
            "Try using .loc[row_indexer,col_indexer] = value instead\n",
            "\n",
            "See the caveats in the documentation: https://pandas.pydata.org/pandas-docs/stable/user_guide/indexing.html#returning-a-view-versus-a-copy\n",
            "  \"\"\"\n"
          ],
          "name": "stderr"
        },
        {
          "output_type": "execute_result",
          "data": {
            "text/plain": [
              "<matplotlib.legend.Legend at 0x7f73383413c8>"
            ]
          },
          "metadata": {
            "tags": []
          },
          "execution_count": 21
        },
        {
          "output_type": "display_data",
          "data": {
            "image/png": "[encoded data removed]",
            "text/plain": [
              "<Figure size 1152x576 with 1 Axes>"
            ]
          },
          "metadata": {
            "tags": []
          }
        }
      ]
    },
    {
      "cell_type": "code",
      "metadata": {
        "colab": {
          "base_uri": "https://localhost:8080/",
          "height": 450
        },
        "id": "mqOHWdCDglEy",
        "outputId": "63be174e-ebee-4337-d202-a98638bea27b"
      },
      "source": [
        "valid"
      ],
      "execution_count": 22,
      "outputs": [
        {
          "output_type": "execute_result",
          "data": {
            "text/html": [
              "<div>\n",
              "<style scoped>\n",
              "    .dataframe tbody tr th:only-of-type {\n",
              "        vertical-align: middle;\n",
              "    }\n",
              "\n",
              "    .dataframe tbody tr th {\n",
              "        vertical-align: top;\n",
              "    }\n",
              "\n",
              "    .dataframe thead th {\n",
              "        text-align: right;\n",
              "    }\n",
              "</style>\n",
              "<table border=\"1\" class=\"dataframe\">\n",
              "  <thead>\n",
              "    <tr style=\"text-align: right;\">\n",
              "      <th></th>\n",
              "      <th>Close</th>\n",
              "      <th>predictions</th>\n",
              "    </tr>\n",
              "    <tr>\n",
              "      <th>Date</th>\n",
              "      <th></th>\n",
              "      <th></th>\n",
              "    </tr>\n",
              "  </thead>\n",
              "  <tbody>\n",
              "    <tr>\n",
              "      <th>2019-03-12</th>\n",
              "      <td>4.71</td>\n",
              "      <td>4.877109</td>\n",
              "    </tr>\n",
              "    <tr>\n",
              "      <th>2019-03-13</th>\n",
              "      <td>4.57</td>\n",
              "      <td>4.779126</td>\n",
              "    </tr>\n",
              "    <tr>\n",
              "      <th>2019-03-14</th>\n",
              "      <td>4.62</td>\n",
              "      <td>4.659305</td>\n",
              "    </tr>\n",
              "    <tr>\n",
              "      <th>2019-03-15</th>\n",
              "      <td>4.76</td>\n",
              "      <td>4.658463</td>\n",
              "    </tr>\n",
              "    <tr>\n",
              "      <th>2019-03-18</th>\n",
              "      <td>4.83</td>\n",
              "      <td>4.774185</td>\n",
              "    </tr>\n",
              "    <tr>\n",
              "      <th>...</th>\n",
              "      <td>...</td>\n",
              "      <td>...</td>\n",
              "    </tr>\n",
              "    <tr>\n",
              "      <th>2020-12-18</th>\n",
              "      <td>12.36</td>\n",
              "      <td>12.492307</td>\n",
              "    </tr>\n",
              "    <tr>\n",
              "      <th>2020-12-21</th>\n",
              "      <td>12.50</td>\n",
              "      <td>12.520452</td>\n",
              "    </tr>\n",
              "    <tr>\n",
              "      <th>2020-12-22</th>\n",
              "      <td>12.60</td>\n",
              "      <td>12.604390</td>\n",
              "    </tr>\n",
              "    <tr>\n",
              "      <th>2020-12-23</th>\n",
              "      <td>12.72</td>\n",
              "      <td>12.677449</td>\n",
              "    </tr>\n",
              "    <tr>\n",
              "      <th>2020-12-24</th>\n",
              "      <td>12.58</td>\n",
              "      <td>12.757593</td>\n",
              "    </tr>\n",
              "  </tbody>\n",
              "</table>\n",
              "<p>443 rows × 2 columns</p>\n",
              "</div>"
            ],
            "text/plain": [
              "            Close  predictions\n",
              "Date                          \n",
              "2019-03-12   4.71     4.877109\n",
              "2019-03-13   4.57     4.779126\n",
              "2019-03-14   4.62     4.659305\n",
              "2019-03-15   4.76     4.658463\n",
              "2019-03-18   4.83     4.774185\n",
              "...           ...          ...\n",
              "2020-12-18  12.36    12.492307\n",
              "2020-12-21  12.50    12.520452\n",
              "2020-12-22  12.60    12.604390\n",
              "2020-12-23  12.72    12.677449\n",
              "2020-12-24  12.58    12.757593\n",
              "\n",
              "[443 rows x 2 columns]"
            ]
          },
          "metadata": {
            "tags": []
          },
          "execution_count": 22
        }
      ]
    },
    {
      "cell_type": "code",
      "metadata": {
        "id": "8uPsB4GQg-SZ"
      },
      "source": [
        "quote = web.DataReader('5168.KL', data_source='yahoo', start='2012-01-01', end='2020-12-23')\r\n",
        "new_df = quote.filter(['Close'])\r\n",
        "last_60_day = new_df[-60:].values\r\n",
        "last_60_day_scaled = scaler.transform(last_60_day)\r\n",
        "X_test = []\r\n",
        "X_test.append(last_60_day_scaled)\r\n",
        "X_test = np.array(X_test)"
      ],
      "execution_count": 23,
      "outputs": []
    },
    {
      "cell_type": "code",
      "metadata": {
        "id": "_2H3xPd8iRoJ"
      },
      "source": [
        "X_test = np.reshape(X_test, (X_test.shape[0], X_test.shape[1], 1))"
      ],
      "execution_count": 24,
      "outputs": []
    },
    {
      "cell_type": "code",
      "metadata": {
        "colab": {
          "base_uri": "https://localhost:8080/"
        },
        "id": "mKDIGFjyib_a",
        "outputId": "831db250-c64d-4858-cb5c-b5c3267b62bb"
      },
      "source": [
        "pred_price = model.predict(X_test)\r\n",
        "pred_price = scaler.inverse_transform(pred_price)\r\n",
        "pred_price"
      ],
      "execution_count": 25,
      "outputs": [
        {
          "output_type": "execute_result",
          "data": {
            "text/plain": [
              "array([[12.611068]], dtype=float32)"
            ]
          },
          "metadata": {
            "tags": []
          },
          "execution_count": 25
        }
      ]
    },
    {
      "cell_type": "code",
      "metadata": {
        "colab": {
          "base_uri": "https://localhost:8080/"
        },
        "id": "iE27TjD4iwjU",
        "outputId": "b5c29e09-3367-491f-c797-7e540f75753e"
      },
      "source": [
        "quote2 = web.DataReader('5168.KL', data_source='yahoo', start='2020-12-24', end='2020-12-24')\r\n",
        "quote2['Close']"
      ],
      "execution_count": 26,
      "outputs": [
        {
          "output_type": "execute_result",
          "data": {
            "text/plain": [
              "Date\n",
              "2020-12-24    12.58\n",
              "2020-12-24    12.58\n",
              "Name: Close, dtype: float64"
            ]
          },
          "metadata": {
            "tags": []
          },
          "execution_count": 26
        }
      ]
    },
    {
      "cell_type": "code",
      "metadata": {
        "id": "r2Ahv4bei_OU"
      },
      "source": [
        ""
      ],
      "execution_count": 26,
      "outputs": []
    }
  ]
}